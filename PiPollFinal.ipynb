{
 "cells": [
  {
   "cell_type": "code",
   "execution_count": 13,
   "metadata": {},
   "outputs": [],
   "source": [
    "# Get data from .csv file\n",
    "# open file\n",
    "f = open(\"Resources/election_data.csv\")"
   ]
  },
  {
   "cell_type": "code",
   "execution_count": 14,
   "metadata": {},
   "outputs": [],
   "source": [
    "header = f.readline()"
   ]
  },
  {
   "cell_type": "code",
   "execution_count": 15,
   "metadata": {},
   "outputs": [],
   "source": [
    "# read the data into a dict\n",
    "pypoll = {}  # key: candidate name,  val: vote count\n",
    "count = 0\n",
    "for line in f:\n",
    "    count += 1  # same as count = count + 1\n",
    "    line = line.strip()  # remove '\\n' from end of line\n",
    "    items = line.split(',')  # return list of col data\n",
    "    candidate = items[2]\n",
    "    if candidate in pypoll:\n",
    "        pypoll[candidate] += 1\n",
    "    else: # candidate not in dict yet\n",
    "        pypoll[candidate] = 1\n",
    "f.close()"
   ]
  },
  {
   "cell_type": "code",
   "execution_count": 16,
   "metadata": {},
   "outputs": [
    {
     "data": {
      "text/plain": [
       "{'Khan': 2218231, 'Correy': 704200, 'Li': 492940, \"O'Tooley\": 105630}"
      ]
     },
     "execution_count": 16,
     "metadata": {},
     "output_type": "execute_result"
    }
   ],
   "source": [
    "pypoll"
   ]
  },
  {
   "cell_type": "code",
   "execution_count": 17,
   "metadata": {},
   "outputs": [],
   "source": [
    "# get total # of votes\n",
    "total_votes = count"
   ]
  },
  {
   "cell_type": "code",
   "execution_count": 22,
   "metadata": {},
   "outputs": [],
   "source": [
    "# list of candidates\n",
    "cand_list = list(pypoll.keys()) # tkeys is a dictionairy command that returns all keys which in this case are candidate names"
   ]
  },
  {
   "cell_type": "code",
   "execution_count": 28,
   "metadata": {},
   "outputs": [],
   "source": [
    "# percent of votes per candidate\n",
    "percent_votes = {}\n",
    "for candidate, votes in pypoll.items(): # items is one of the 3 dict methods - item returns both the key and the value\n",
    "    pct = 100 * votes / total_votes\n",
    "    percent_votes[candidate] = pct"
   ]
  },
  {
   "cell_type": "code",
   "execution_count": 30,
   "metadata": {},
   "outputs": [],
   "source": [
    "# total # of votes per candidate\n",
    "# get from the pypoll dict"
   ]
  },
  {
   "cell_type": "code",
   "execution_count": 31,
   "metadata": {},
   "outputs": [],
   "source": [
    "# find winner of election (most votes)\n",
    "winner = None #place holder - inialize the variable\n",
    "biggest_count = 0 #initialize count to something for comparing\n",
    "for candidate, count in pypoll.items():\n",
    "    if count > biggest_count:\n",
    "        winner = candidate\n",
    "        biggest_count = count"
   ]
  },
  {
   "cell_type": "code",
   "execution_count": 38,
   "metadata": {},
   "outputs": [
    {
     "name": "stdout",
     "output_type": "stream",
     "text": [
      "Election Results\n",
      "---------------\n",
      "Total Votes: 3521001\n",
      "---------------\n",
      "Khan 63.000% (2218231)\n",
      "Correy 20.000% (704200)\n",
      "Li 14.000% (492940)\n",
      "O'Tooley 3.000% (105630)\n",
      "---------------\n",
      "Winner: Khan\n",
      "---------------\n",
      "Wrote to Poll_results.txt\n"
     ]
    }
   ],
   "source": [
    "# print results and write to a file\n",
    "def output_horiz_line(): #define function\n",
    "    print(horiz_line)\n",
    "    fout.write(horiz_line + '\\n')\n",
    "\n",
    "fname = \"Poll_results.txt\"\n",
    "horiz_line = '-'*15\n",
    "fout = open(fname, 'w')\n",
    "s = \"Election Results\"\n",
    "print(s)\n",
    "fout.write(s + '\\n')\n",
    "output_horiz_line()\n",
    "\n",
    "s = 'Total Votes: {}'.format(total_votes)\n",
    "print(s)\n",
    "fout.write(s + '\\n')\n",
    "output_horiz_line()\n",
    "\n",
    "for candidate, count in pypoll.items():\n",
    "    pct = percent_votes[candidate]\n",
    "    s = \"{} {:.3f}% ({})\".format(candidate, pct, count)\n",
    "    print(s)\n",
    "    fout.write(s + '\\n')\n",
    "output_horiz_line()\n",
    "s = \"Winner: {}\".format(winner)\n",
    "print(s)\n",
    "fout.write(s + '\\n')\n",
    "output_horiz_line()\n",
    "\n",
    "fout.close()\n",
    "print('Wrote to', fname)"
   ]
  },
  {
   "cell_type": "code",
   "execution_count": null,
   "metadata": {},
   "outputs": [],
   "source": []
  }
 ],
 "metadata": {
  "kernelspec": {
   "display_name": "Python 3",
   "language": "python",
   "name": "python3"
  },
  "language_info": {
   "codemirror_mode": {
    "name": "ipython",
    "version": 3
   },
   "file_extension": ".py",
   "mimetype": "text/x-python",
   "name": "python",
   "nbconvert_exporter": "python",
   "pygments_lexer": "ipython3",
   "version": "3.7.4"
  }
 },
 "nbformat": 4,
 "nbformat_minor": 4
}
